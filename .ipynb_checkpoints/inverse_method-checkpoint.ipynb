{
 "cells": [
  {
   "cell_type": "code",
   "execution_count": 89,
   "id": "7c4666cf-8ffc-4a33-833b-949a2b85cc60",
   "metadata": {},
   "outputs": [],
   "source": [
    "import numpy as np\n",
    "import pandas as pd"
   ]
  },
  {
   "cell_type": "code",
   "execution_count": 2,
   "id": "eea50cab-3007-43d7-aa7a-bb694cac46bf",
   "metadata": {},
   "outputs": [],
   "source": [
    "ages = np.array([])        # 样本年龄数据，单位：百万年（Ma）\n",
    "elevations = np.array([])  # 样本海拔数据，单位：米（m）\n",
    "e_pr = np.array([])        # 先验剥蚀速率，单位：米/百万年（m/Ma）"
   ]
  },
  {
   "cell_type": "markdown",
   "id": "288d9422-04db-45cd-9a19-a757e481c082",
   "metadata": {},
   "source": [
    "### read data"
   ]
  },
  {
   "cell_type": "code",
   "execution_count": 3,
   "id": "82d2726a-8cef-417b-aa1a-0481c4612e69",
   "metadata": {},
   "outputs": [
    {
     "data": {
      "text/html": [
       "<div>\n",
       "<style scoped>\n",
       "    .dataframe tbody tr th:only-of-type {\n",
       "        vertical-align: middle;\n",
       "    }\n",
       "\n",
       "    .dataframe tbody tr th {\n",
       "        vertical-align: top;\n",
       "    }\n",
       "\n",
       "    .dataframe thead th {\n",
       "        text-align: right;\n",
       "    }\n",
       "</style>\n",
       "<table border=\"1\" class=\"dataframe\">\n",
       "  <thead>\n",
       "    <tr style=\"text-align: right;\">\n",
       "      <th></th>\n",
       "      <th>sample</th>\n",
       "      <th>lat</th>\n",
       "      <th>lon</th>\n",
       "      <th>ele</th>\n",
       "      <th>age</th>\n",
       "      <th>err</th>\n",
       "      <th>method</th>\n",
       "      <th>ref</th>\n",
       "    </tr>\n",
       "  </thead>\n",
       "  <tbody>\n",
       "    <tr>\n",
       "      <th>0</th>\n",
       "      <td>DB45rep</td>\n",
       "      <td>31.073433</td>\n",
       "      <td>115.823267</td>\n",
       "      <td>340.0</td>\n",
       "      <td>22.5</td>\n",
       "      <td>1.4</td>\n",
       "      <td>AHe</td>\n",
       "      <td>Reiners_2003</td>\n",
       "    </tr>\n",
       "    <tr>\n",
       "      <th>1</th>\n",
       "      <td>DB45</td>\n",
       "      <td>31.073433</td>\n",
       "      <td>115.823267</td>\n",
       "      <td>340.0</td>\n",
       "      <td>25.3</td>\n",
       "      <td>1.5</td>\n",
       "      <td>AHe</td>\n",
       "      <td>Reiners_2003</td>\n",
       "    </tr>\n",
       "    <tr>\n",
       "      <th>2</th>\n",
       "      <td>DB35</td>\n",
       "      <td>31.016733</td>\n",
       "      <td>115.783100</td>\n",
       "      <td>224.0</td>\n",
       "      <td>31.7</td>\n",
       "      <td>1.9</td>\n",
       "      <td>AHe</td>\n",
       "      <td>Reiners_2003</td>\n",
       "    </tr>\n",
       "    <tr>\n",
       "      <th>3</th>\n",
       "      <td>DB36</td>\n",
       "      <td>30.825083</td>\n",
       "      <td>115.635017</td>\n",
       "      <td>238.0</td>\n",
       "      <td>32.8</td>\n",
       "      <td>2.0</td>\n",
       "      <td>AHe</td>\n",
       "      <td>Reiners_2003</td>\n",
       "    </tr>\n",
       "    <tr>\n",
       "      <th>4</th>\n",
       "      <td>DB20</td>\n",
       "      <td>31.327083</td>\n",
       "      <td>115.510817</td>\n",
       "      <td>207.0</td>\n",
       "      <td>33.0</td>\n",
       "      <td>2.0</td>\n",
       "      <td>AHe</td>\n",
       "      <td>Reiners_2003</td>\n",
       "    </tr>\n",
       "  </tbody>\n",
       "</table>\n",
       "</div>"
      ],
      "text/plain": [
       "    sample        lat         lon    ele   age  err method           ref\n",
       "0  DB45rep  31.073433  115.823267  340.0  22.5  1.4    AHe  Reiners_2003\n",
       "1     DB45  31.073433  115.823267  340.0  25.3  1.5    AHe  Reiners_2003\n",
       "2     DB35  31.016733  115.783100  224.0  31.7  1.9    AHe  Reiners_2003\n",
       "3     DB36  30.825083  115.635017  238.0  32.8  2.0    AHe  Reiners_2003\n",
       "4     DB20  31.327083  115.510817  207.0  33.0  2.0    AHe  Reiners_2003"
      ]
     },
     "execution_count": 3,
     "metadata": {},
     "output_type": "execute_result"
    }
   ],
   "source": [
    "data_raw = pd.read_csv(\"dabie_data.csv\").sort_values('age').reset_index(drop=True)\n",
    "data_raw.head()"
   ]
  },
  {
   "cell_type": "code",
   "execution_count": 4,
   "id": "77bacd30-3fb9-4202-b81c-c984bedf70af",
   "metadata": {},
   "outputs": [],
   "source": [
    "ages = np.array(data_raw.iloc[:,4])\n",
    "elevations = np.array(data_raw.iloc[:,3])"
   ]
  },
  {
   "cell_type": "markdown",
   "id": "b00843a8-d521-43e0-b0a2-803059c10a53",
   "metadata": {},
   "source": [
    " ## use inversion method to generate e_rate from age and elevations\n",
    "![RUNOOB 图标](https://imgfans.com/_LRiCT)\n",
    "\n",
    "![RUNOOB 图标](https://imgfans.com/_HZEOQ)"
   ]
  },
  {
   "cell_type": "code",
   "execution_count": 86,
   "id": "4abceacf-14e9-4ff7-be71-3b2c2cb1e215",
   "metadata": {},
   "outputs": [],
   "source": [
    "delta_T = 2.5\n",
    "\n",
    "M_max = int(ages[-1]/delta_T)+1\n",
    "e_pr = np.array([0.2 for i in range(M_max)])\n",
    "e = np.ones(len(e_pr))*0\n",
    "sigma_pr = 0.5\n",
    "\n",
    "#构造矩阵A\n",
    "A = np.array([])\n",
    "for i in ages:\n",
    "    temp= [delta_T for j in range(int(i/delta_T))]\n",
    "    A = np.append(A,np.hstack((np.array(temp),np.array([i % delta_T]),np.array([0 for j in range(int(ages[-1]/delta_T)-len(temp))]))),axis=0)\n",
    "A = A.reshape(-1,int(ages[-1]/delta_T)+1)\n",
    "# 构造矩阵C\n",
    "C = np.eye(M_max)*(sigma_pr**2)\n",
    "#构造矩阵C_e\n",
    "C_e = np.eye(ages.shape[0])*(e@e_pr)\n",
    "z = np.array(data_raw.iloc[:,3])\n"
   ]
  },
  {
   "cell_type": "code",
   "execution_count": 87,
   "id": "ef3e04ac-4822-4420-a238-8a6c6f3e07ea",
   "metadata": {},
   "outputs": [],
   "source": [
    "ACAT_Ce_inv = np.linalg.inv(A @ C @A.T + C_e)\n",
    "\n",
    "# 计算向量 (z_hat_c - A @ e_pr)\n",
    "z_diff = z - A @ e_pr\n",
    "\n",
    "# 计算后验剥蚀速率修正量\n",
    "delta_e = CAT @ ACAT_Ce_inv @ z_diff\n",
    "\n",
    "# 计算后验剥蚀速率\n",
    "e_po = e_pr + delta_e"
   ]
  },
  {
   "cell_type": "code",
   "execution_count": 88,
   "id": "fd1ebfe9-fe57-4800-b1dd-0d39e8400bca",
   "metadata": {},
   "outputs": [
    {
     "data": {
      "text/html": [
       "<div>\n",
       "<style scoped>\n",
       "    .dataframe tbody tr th:only-of-type {\n",
       "        vertical-align: middle;\n",
       "    }\n",
       "\n",
       "    .dataframe tbody tr th {\n",
       "        vertical-align: top;\n",
       "    }\n",
       "\n",
       "    .dataframe thead th {\n",
       "        text-align: right;\n",
       "    }\n",
       "</style>\n",
       "<table border=\"1\" class=\"dataframe\">\n",
       "  <thead>\n",
       "    <tr style=\"text-align: right;\">\n",
       "      <th></th>\n",
       "      <th>e_pr</th>\n",
       "      <th>e_po</th>\n",
       "    </tr>\n",
       "  </thead>\n",
       "  <tbody>\n",
       "    <tr>\n",
       "      <th>0</th>\n",
       "      <td>0.2</td>\n",
       "      <td>-67.782065</td>\n",
       "    </tr>\n",
       "    <tr>\n",
       "      <th>1</th>\n",
       "      <td>0.2</td>\n",
       "      <td>-67.782065</td>\n",
       "    </tr>\n",
       "    <tr>\n",
       "      <th>2</th>\n",
       "      <td>0.2</td>\n",
       "      <td>-67.782065</td>\n",
       "    </tr>\n",
       "    <tr>\n",
       "      <th>3</th>\n",
       "      <td>0.2</td>\n",
       "      <td>-67.782065</td>\n",
       "    </tr>\n",
       "    <tr>\n",
       "      <th>4</th>\n",
       "      <td>0.2</td>\n",
       "      <td>-67.782065</td>\n",
       "    </tr>\n",
       "    <tr>\n",
       "      <th>...</th>\n",
       "      <td>...</td>\n",
       "      <td>...</td>\n",
       "    </tr>\n",
       "    <tr>\n",
       "      <th>58</th>\n",
       "      <td>0.2</td>\n",
       "      <td>-0.255514</td>\n",
       "    </tr>\n",
       "    <tr>\n",
       "      <th>59</th>\n",
       "      <td>0.2</td>\n",
       "      <td>0.235604</td>\n",
       "    </tr>\n",
       "    <tr>\n",
       "      <th>60</th>\n",
       "      <td>0.2</td>\n",
       "      <td>0.972279</td>\n",
       "    </tr>\n",
       "    <tr>\n",
       "      <th>61</th>\n",
       "      <td>0.2</td>\n",
       "      <td>0.972279</td>\n",
       "    </tr>\n",
       "    <tr>\n",
       "      <th>62</th>\n",
       "      <td>0.2</td>\n",
       "      <td>0.200000</td>\n",
       "    </tr>\n",
       "  </tbody>\n",
       "</table>\n",
       "<p>63 rows × 2 columns</p>\n",
       "</div>"
      ],
      "text/plain": [
       "    e_pr       e_po\n",
       "0    0.2 -67.782065\n",
       "1    0.2 -67.782065\n",
       "2    0.2 -67.782065\n",
       "3    0.2 -67.782065\n",
       "4    0.2 -67.782065\n",
       "..   ...        ...\n",
       "58   0.2  -0.255514\n",
       "59   0.2   0.235604\n",
       "60   0.2   0.972279\n",
       "61   0.2   0.972279\n",
       "62   0.2   0.200000\n",
       "\n",
       "[63 rows x 2 columns]"
      ]
     },
     "execution_count": 88,
     "metadata": {},
     "output_type": "execute_result"
    }
   ],
   "source": [
    "result = pd.DataFrame({\"e_pr\":e_pr,\"e_po\":e_po})\n",
    "result"
   ]
  },
  {
   "cell_type": "code",
   "execution_count": 72,
   "id": "c6362ac1-83fb-40f0-8e16-9e6f079b69e0",
   "metadata": {},
   "outputs": [
    {
     "data": {
      "text/plain": [
       "<Axes: >"
      ]
     },
     "execution_count": 72,
     "metadata": {},
     "output_type": "execute_result"
    },
    {
     "data": {
      "image/png": "[encoded data removed]",
      "text/plain": [
       "<Figure size 640x480 with 1 Axes>"
      ]
     },
     "metadata": {},
     "output_type": "display_data"
    }
   ],
   "source": [
    "result.plot()"
   ]
  }
 ],
 "metadata": {
  "kernelspec": {
   "display_name": "Python 3 (ipykernel)",
   "language": "python",
   "name": "python3"
  },
  "language_info": {
   "codemirror_mode": {
    "name": "ipython",
    "version": 3
   },
   "file_extension": ".py",
   "mimetype": "text/x-python",
   "name": "python",
   "nbconvert_exporter": "python",
   "pygments_lexer": "ipython3",
   "version": "3.12.2"
  }
 },
 "nbformat": 4,
 "nbformat_minor": 5
}
